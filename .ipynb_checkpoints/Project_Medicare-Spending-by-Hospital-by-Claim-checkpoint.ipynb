{
 "cells": [
  {
   "cell_type": "markdown",
   "metadata": {},
   "source": [
    "Hack University Project\n",
    "Creator: Stephanie Marson\n",
    "Date Started: 02/14/2016"
   ]
  },
  {
   "cell_type": "markdown",
   "metadata": {},
   "source": [
    "Question: Did Oregon Hospitals spend more on Medicare by claim in 2014?\n",
    "\n",
    "Source: http://data.medicare.gov\n",
    "Documentation: https://data.medicare.gov/views/bg9k-emty/files/BPZkuotlzMrzyJAg82XuA0MFW4bdH2vncRTX9xZGQIk?filename=Hospital.pdf&content_type=application%2Fpdf%3B%20charset%3Dbinary"
   ]
  },
  {
   "cell_type": "code",
   "execution_count": 1,
   "metadata": {
    "collapsed": true
   },
   "outputs": [],
   "source": [
    "%matplotlib inline\n",
    "import pandas as pd\n",
    "import matplotlib.pyplot as plt"
   ]
  },
  {
   "cell_type": "code",
   "execution_count": 2,
   "metadata": {
    "collapsed": false
   },
   "outputs": [
    {
     "name": "stdout",
     "output_type": "stream",
     "text": [
      "C:\\Users\\Lil Puter\\Desktop\\HackOregon-Data-Science-Cource_2016\\hack-university-data-science\\Project\n"
     ]
    }
   ],
   "source": [
    "import os\n",
    "currentpath = os.getcwd()\n",
    "print(currentpath)"
   ]
  },
  {
   "cell_type": "code",
   "execution_count": 7,
   "metadata": {
    "collapsed": false
   },
   "outputs": [],
   "source": [
    "fname = os.path.join(os.getcwd(),\"Medicare-Hospital-Spending-by-Claim.csv\")\n",
    "\n",
    "# load in a subset of columns\n",
    "medicare = pd.read_csv(fname)"
   ]
  },
  {
   "cell_type": "code",
   "execution_count": null,
   "metadata": {
    "collapsed": true
   },
   "outputs": [],
   "source": []
  }
 ],
 "metadata": {
  "kernelspec": {
   "display_name": "Python 3",
   "language": "python",
   "name": "python3"
  },
  "language_info": {
   "codemirror_mode": {
    "name": "ipython",
    "version": 3
   },
   "file_extension": ".py",
   "mimetype": "text/x-python",
   "name": "python",
   "nbconvert_exporter": "python",
   "pygments_lexer": "ipython3",
   "version": "3.5.1"
  }
 },
 "nbformat": 4,
 "nbformat_minor": 0
}
